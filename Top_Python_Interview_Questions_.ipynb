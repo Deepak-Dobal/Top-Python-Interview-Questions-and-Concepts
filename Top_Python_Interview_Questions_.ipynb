{
  "nbformat": 4,
  "nbformat_minor": 0,
  "metadata": {
    "colab": {
      "provenance": []
    },
    "kernelspec": {
      "name": "python3",
      "display_name": "Python 3"
    },
    "language_info": {
      "name": "python"
    }
  },
  "cells": [
    {
      "cell_type": "markdown",
      "source": [
        "#1-Write a program to reverse a string in Python."
      ],
      "metadata": {
        "id": "1BIBBN0JnMhV"
      }
    },
    {
      "cell_type": "code",
      "execution_count": null,
      "metadata": {
        "colab": {
          "base_uri": "https://localhost:8080/"
        },
        "id": "coPidwaqmv6J",
        "outputId": "a03497d5-eb06-4019-cb2b-1b9b4a2f76ca"
      },
      "outputs": [
        {
          "output_type": "stream",
          "name": "stdout",
          "text": [
            "nohtyP ni gnirts a esrever ot margorp\n"
          ]
        }
      ],
      "source": [
        "def reverse_string(str_):  # Function to reverse a string \n",
        "  return str_[::-1]        # Using string slicing with step -1 to reverse the string\n",
        "\n",
        "str_ = \"program to reverse a string in Python\"   # Input string\n",
        "print(reverse_string(str_))   # Calling the reverse_string function and printing the result\n"
      ]
    },
    {
      "cell_type": "code",
      "source": [
        "def reverse_string(str_):\n",
        "  str_1=\"\"                           # Initialize an empty string to store the reversed string\n",
        "  for i in str_.split():             # Split the input string at whitespace characters to get a list of words\n",
        "    str_1+=i[::-1]+str(\" \")         # Reverse the characters in each word using string slicing, and append it to the reversed string along with a space character\n",
        "  return str_1                       # Return the reversed string\n",
        "str_=\"program to reverse a string in Python\"\n",
        "print(reverse_string(str_))"
      ],
      "metadata": {
        "colab": {
          "base_uri": "https://localhost:8080/"
        },
        "id": "yFngy8s4nteM",
        "outputId": "9bc9a085-fe7d-4d94-beef-328478f58f27"
      },
      "execution_count": null,
      "outputs": [
        {
          "output_type": "stream",
          "name": "stdout",
          "text": [
            "margorp ot esrever a gnirts ni nohtyP \n"
          ]
        }
      ]
    },
    {
      "cell_type": "markdown",
      "source": [
        "#2-Write a program to find the largest and smallest elements in a list in Python"
      ],
      "metadata": {
        "id": "B8I0rWhtpOJg"
      }
    },
    {
      "cell_type": "code",
      "source": [
        "l = [1212, 34, 2, 4, 45, 76, 2, -23, 129]    # Given list of numbers\n",
        "\n",
        "def largest_element(l):\n",
        "    \"\"\"\n",
        "    A function to find the largest and smallest elements in a list.\n",
        "\n",
        "    Parameters:\n",
        "        - l (list): The list of numbers to find the largest and smallest from\n",
        "\n",
        "    Returns:\n",
        "        - max (int): The largest element in the list\n",
        "        - min (int): The smallest element in the list\n",
        "    \"\"\"\n",
        "\n",
        "    max = l[0]    # Assume the first element as the maximum\n",
        "    min = l[0]    # Assume the first element as the minimum\n",
        "\n",
        "    for i in l:\n",
        "        if i > max:\n",
        "            max = i    # Update max if a larger element is found\n",
        "        elif i < min:\n",
        "            min = i    # Update min if a smaller element is found\n",
        "\n",
        "    return max, min    # Return the largest and smallest elements as a tuple\n",
        "\n",
        "print(largest_element(l))    # Call the function and print the result\n",
        "   "
      ],
      "metadata": {
        "colab": {
          "base_uri": "https://localhost:8080/"
        },
        "id": "DiXI-j_LpTVV",
        "outputId": "7625a622-b35c-46c3-f3e8-34352cab1bc3"
      },
      "execution_count": null,
      "outputs": [
        {
          "output_type": "stream",
          "name": "stdout",
          "text": [
            "(1212, -23)\n"
          ]
        }
      ]
    },
    {
      "cell_type": "code",
      "source": [
        "l = [1212, 34, 2, 4, 45, 76, 2, -23, 129]    # Given list of numbers\n",
        "\n",
        "def largest_element(l):\n",
        "    \"\"\"\n",
        "    A function to find the largest and smallest elements in a list.\n",
        "\n",
        "    Parameters:\n",
        "        - l (list): The list of numbers to find the largest and smallest from\n",
        "\n",
        "    Returns:\n",
        "        - max (int): The largest element in the list\n",
        "        - min (int): The smallest element in the list\n",
        "    \"\"\"\n",
        "\n",
        "    sorted_l = sorted(l)    # Sort the list in ascending order\n",
        "    min = sorted_l[0]    # Get the first element from the sorted list (smallest element)\n",
        "    max = sorted_l[-1]    # Get the last element from the sorted list (largest element)\n",
        "\n",
        "    return max, min    # Return the largest and smallest elements as a tuple\n",
        "\n",
        "print(largest_element(l))    # Call the function and print the result\n",
        "\n"
      ],
      "metadata": {
        "colab": {
          "base_uri": "https://localhost:8080/"
        },
        "id": "kVw2ZKQXrJaZ",
        "outputId": "234873c6-56d8-4131-97a2-ff32d74d6bbf"
      },
      "execution_count": null,
      "outputs": [
        {
          "output_type": "stream",
          "name": "stdout",
          "text": [
            "(1212, -23)\n"
          ]
        }
      ]
    },
    {
      "cell_type": "markdown",
      "source": [
        "# 3-Write a program to find the second largest number in a list in Python."
      ],
      "metadata": {
        "id": "H6ce5emVrBFo"
      }
    },
    {
      "cell_type": "code",
      "source": [
        "\n",
        "l = [1212, 34, 2, 4, 45, 76, 2, -23, 129]    # Given list of numbers\n",
        "\n",
        "def second_largest(l):\n",
        "    \"\"\"\n",
        "    A function to find the second largest number in a list.\n",
        "\n",
        "    Parameters:\n",
        "        - l (list): The list of numbers to find the second largest from\n",
        "\n",
        "    Returns:\n",
        "        - second_largest_number (int): The second largest number in the list\n",
        "    \"\"\"\n",
        "\n",
        "    sorted_l = sorted(l)    # Sort the list in ascending order\n",
        "    second_largest_number = sorted_l[-2]    # Get the second-to-last element from the sorted list\n",
        "\n",
        "    return second_largest_number    # Return the second largest number\n",
        "\n",
        "print(second_largest(l))    # Call the function and print the result\n",
        "\n"
      ],
      "metadata": {
        "colab": {
          "base_uri": "https://localhost:8080/"
        },
        "id": "BEhHbvUOrCzn",
        "outputId": "123f22e7-152f-4525-a258-03487f2931fa"
      },
      "execution_count": null,
      "outputs": [
        {
          "output_type": "stream",
          "name": "stdout",
          "text": [
            "129\n"
          ]
        }
      ]
    },
    {
      "cell_type": "markdown",
      "source": [
        "#4-Write a program to check whether a given number is prime or not in Python."
      ],
      "metadata": {
        "id": "mH3jjzInsj7O"
      }
    },
    {
      "cell_type": "code",
      "source": [
        "def prime_number(n):\n",
        "    \"\"\"\n",
        "    A function to check if a given number (n) is a prime number.\n",
        "\n",
        "    Parameters:\n",
        "        - n (int): The number to be checked for prime\n",
        "\n",
        "    Returns:\n",
        "        - None: The function prints the result directly\n",
        "    \"\"\"\n",
        "\n",
        "    flag = True    # Initialize a flag variable to True\n",
        "\n",
        "    if n <= 1:    # If the number is less than or equal to 1, print an error message\n",
        "        print(\"Kindly provide a valid number greater than 1\")\n",
        "    else:\n",
        "        for i in range(2, (n // 2) + 1):    # Iterate from 2 to half of the given number\n",
        "            if n % i == 0:    # If the number is divisible by any number in the range, set the flag to False and break\n",
        "                flag = False\n",
        "                break\n",
        "            else:\n",
        "                flag = True    # If the number is not divisible by any number in the range, set the flag to True\n",
        "\n",
        "    if flag:\n",
        "        print(f\"{n} is a prime number\")    # If the flag is True, the number is prime\n",
        "    else:\n",
        "        print(f\"{n} is not a prime number\")    # If the flag is False, the number is not prime\n",
        "\n",
        "n = int(input(\"Enter a number to check if it's a prime number: \"))    # Take input from the user\n",
        "prime_number(n)    # Call the prime_number function to check if the input number is prime or not\n"
      ],
      "metadata": {
        "colab": {
          "base_uri": "https://localhost:8080/"
        },
        "id": "-QrbfzxTsnWF",
        "outputId": "a32ab804-4e75-4d35-d00f-8ec9a45ba593"
      },
      "execution_count": null,
      "outputs": [
        {
          "output_type": "stream",
          "name": "stdout",
          "text": [
            "Enter a Number To check whether a given number is prime or not in Python =-8\n",
            "Kindly Provide a Valid Number greter than 1\n",
            "-8 is a Prime number\n"
          ]
        }
      ]
    },
    {
      "cell_type": "markdown",
      "source": [
        "#5-Write a program to implement a binary search algorithm in Python."
      ],
      "metadata": {
        "id": "dPg6GhGR-LRR"
      }
    },
    {
      "cell_type": "markdown",
      "source": [
        "**Binary Search is a searching algorithm used in a sorted array by repeatedly dividing the search interval in half. The idea of binary search is to use the information that the array is sorted and reduce the time complexity to O(Log n)**. "
      ],
      "metadata": {
        "id": "OngtzuXz_bDH"
      }
    },
    {
      "cell_type": "code",
      "source": [
        "def binary_search(arr, n):\n",
        "    \"\"\"\n",
        "    A binary search algorithm to find the position (index) of a target element (n)\n",
        "    within a sorted list (arr).\n",
        "\n",
        "    Parameters:\n",
        "        - arr (list): Sorted list of elements to search\n",
        "        - n (int): Target element to search for\n",
        "\n",
        "    Returns:\n",
        "        - int: Index of the target element in the list, or -1 if not found\n",
        "    \"\"\"\n",
        "\n",
        "    left = 0                 # Initialize the left pointer to the beginning of the list\n",
        "    right = len(arr) - 1     # Initialize the right pointer to the end of the list\n",
        "\n",
        "    while left <= right:    # Continue the loop as long as left pointer is less than or equal to right pointer\n",
        "        mid = (left + right) // 2    # Calculate the middle index of the current range\n",
        "\n",
        "        if arr[mid] == n:    # If the middle element is equal to the target value, return the index\n",
        "            return mid\n",
        "        elif arr[mid] < n:   # If the middle element is less than the target value, update the left pointer\n",
        "            left = mid + 1\n",
        "        else:                 # If the middle element is greater than the target value, update the right pointer\n",
        "            right = mid - 1\n",
        "\n",
        "    return -1    # Return -1 if target element is not found\n",
        "\n",
        "arr = [23, 54, 7, 2, -7, 32, 87, 17]    # Input list of elements\n",
        "arr = sorted(arr)    # Sort the input list (binary search requires a sorted list)\n",
        "n = 7                # Target element to search for\n",
        "\n",
        "index = binary_search(arr, n)    # Call the binary_search function to find the index of the target element\n",
        "\n",
        "if index != -1:    # If the target element is found, print the index\n",
        "    print(f\"The element {n} was found at index {index}\")\n",
        "else:\n",
        "    print(f\"The element {n} is not in the sorted list {arr}\")    # If the target element is not found, print a message\n"
      ],
      "metadata": {
        "colab": {
          "base_uri": "https://localhost:8080/"
        },
        "id": "whVm6nJnzKxh",
        "outputId": "23e79ec2-73ff-4509-afa4-8de090277e99"
      },
      "execution_count": null,
      "outputs": [
        {
          "output_type": "stream",
          "name": "stdout",
          "text": [
            "The element 7 was found at index 2\n"
          ]
        }
      ]
    },
    {
      "cell_type": "markdown",
      "source": [
        "#6-Write a program to implement bubble sort algorithm in Python."
      ],
      "metadata": {
        "id": "V8KFSa4O00pq"
      }
    },
    {
      "cell_type": "markdown",
      "source": [
        "**Bubble Sort is the simplest sorting algorithm that works by repeatedly swapping the adjacent elements if they are in the wrong order.**"
      ],
      "metadata": {
        "id": "_y4gnZ7e3ant"
      }
    },
    {
      "cell_type": "code",
      "source": [
        "arr = [23, 54, 7, 2, -7, 32, 87, 17]  # Given list of numbers\n",
        "\n",
        "def bubble_sort(arr):\n",
        "  for i in range(len(arr)-1):  # Iterate through the list from the beginning to the second-to-last element\n",
        "    for j in range(i+1,len(arr)):  # Iterate through the list from the element next to i to the last element\n",
        "      if arr[i] > arr[j]:  # Compare the current element with the next element\n",
        "        arr[i], arr[j] = arr[j], arr[i]  # Swap the elements if they are in the wrong order\n",
        "\n",
        "  return arr  # Return the sorted list\n",
        "\n",
        "print(f\"Sorted array in Ascending order is {bubble_sort(arr)}\")  # Print the sorted array in ascending order\n"
      ],
      "metadata": {
        "colab": {
          "base_uri": "https://localhost:8080/"
        },
        "id": "DZEIDrzl1jx5",
        "outputId": "b35e0b2c-ce31-4ed8-a07f-e56a54e964cc"
      },
      "execution_count": null,
      "outputs": [
        {
          "output_type": "stream",
          "name": "stdout",
          "text": [
            "Sorted array in Ascending order is [-7, 2, 7, 17, 23, 32, 54, 87]\n"
          ]
        }
      ]
    },
    {
      "cell_type": "markdown",
      "source": [
        "#7-Write a program to calculate the factorial of a given number in Python."
      ],
      "metadata": {
        "id": "dHgD58oa3hFi"
      }
    },
    {
      "cell_type": "code",
      "source": [
        "def factorial(n):        # Define a function to calculate the factorial of a number\n",
        "  if n<1:                 # Check if the input number is less than 1\n",
        "    return print(\"enter a number above 1\")   # If yes, print an error message\n",
        "  else:\n",
        "    fact=1                # Otherwise, initialize a variable 'fact' with 1 to store the factorial\n",
        "    for i in range(1,n+1):   # Loop through the numbers from 1 to n (inclusive)\n",
        "      fact*=i            # Multiply the current number with 'fact' to calculate the factorial\n",
        "    return fact          # Return the calculated factorial\n",
        "n=5                  # Set the value of n to -1 for testing\n",
        "print(f\"the factorial of {n} is {factorial(n)}\")   # Call the factorial function with n as argument and print the result\n",
        "\n",
        "\n"
      ],
      "metadata": {
        "colab": {
          "base_uri": "https://localhost:8080/"
        },
        "id": "_iPOZAvG4Ix-",
        "outputId": "a5ce12a0-578c-4164-a561-c42e81a3f1d2"
      },
      "execution_count": null,
      "outputs": [
        {
          "output_type": "stream",
          "name": "stdout",
          "text": [
            "the factorial of 5 is 120\n"
          ]
        }
      ]
    },
    {
      "cell_type": "markdown",
      "source": [
        "#8-Write a program to check whether a given string is a palindrome or not in Python."
      ],
      "metadata": {
        "id": "kX7ig63f7q1F"
      }
    },
    {
      "cell_type": "markdown",
      "source": [
        "**A string is said to be a palindrome if the reverse of the string is the same as the string. For example, “radar” is a palindrome, but “radix” is not a palindrome.**"
      ],
      "metadata": {
        "id": "O3DdLilQ70hT"
      }
    },
    {
      "cell_type": "code",
      "source": [
        "def palindrome(string_):\n",
        "  flag=True                         # Initialize a flag variable to True\n",
        "  for i in range(len(string_)//2):  # Loop through the characters of the string up to half of its length\n",
        "    \n",
        "    if string_[i]!=string_[-(i+1)]: # Compare the characters at the corresponding positions from the beginning and the end\n",
        "      flag=False                    # If characters are not equal, set flag to False and break out of the loop\n",
        "      break\n",
        "  if flag:                          # If flag is still True after the loop, it means the input string is a palindrome\n",
        "    print(f\"{string_} is a palindrome\")\n",
        "  else:\n",
        "    print(f\"{string_} is not a palindrome\") # If flag is False, it means the input string is not a palindrome\n",
        "\n",
        "s=\"madaa\"\n",
        "palindrome(s)  # Call the palindrome function with the input string \"madam\"\n",
        "\n",
        "  \n"
      ],
      "metadata": {
        "colab": {
          "base_uri": "https://localhost:8080/"
        },
        "id": "kNcxxSkF4tBs",
        "outputId": "d01f35da-0f24-455a-bb47-ef8f3820f783"
      },
      "execution_count": null,
      "outputs": [
        {
          "output_type": "stream",
          "name": "stdout",
          "text": [
            "madaa is not a palindrome\n"
          ]
        }
      ]
    },
    {
      "cell_type": "markdown",
      "source": [
        "#9-Write a pyhton program that accepts a  sequence of words as input and print the unique words in sorted from"
      ],
      "metadata": {
        "id": "LLftDQNpQAel"
      }
    },
    {
      "cell_type": "code",
      "source": [
        "def sorted_words_list(string_):\n",
        "  # Convert the input string to a list of words using the split() method\n",
        "  word_list = string_.split()\n",
        "  word_list=set(word_list)  #For unique words\n",
        "  \n",
        "  # Sort the list of words in alphabetical order\n",
        "  word_list_sorted = sorted(word_list)\n",
        "  \n",
        "  # Return the sorted list of words\n",
        "  return word_list_sorted\n",
        "\n",
        "# Prompt the user to enter  sequence of words\n",
        "string_of_words = input(\"Enter sequence of words: \")\n",
        "\n",
        "# Call the sorted_words_list() function with the input string and print the result\n",
        "print(sorted_words_list(string_of_words))\n"
      ],
      "metadata": {
        "colab": {
          "base_uri": "https://localhost:8080/"
        },
        "id": "KIu4f7yE9LA2",
        "outputId": "b57d4874-8554-49e3-9d33-202630758ec7"
      },
      "execution_count": null,
      "outputs": [
        {
          "output_type": "stream",
          "name": "stdout",
          "text": [
            "Enter sequence of words: deepak singh dobal;\n",
            "['deepak', 'dobal;', 'singh']\n"
          ]
        }
      ]
    },
    {
      "cell_type": "markdown",
      "source": [
        "#10-Write a python function to insert a string in the middle of a string. \n",
        "#input: [[]] pyhton output : [[pyhton]]"
      ],
      "metadata": {
        "id": "DR-3wlFNU6jE"
      }
    },
    {
      "cell_type": "code",
      "source": [
        "def srting_shape_word(string_shape, word):\n",
        "  # Slices the first two characters of the string shape, concatenates it with the given word, and adds the last two characters of the string shape\n",
        "  output_string = string_shape[:2] + str(word) + string_shape[-2:]\n",
        "  \n",
        "  # Returns the output string\n",
        "  return output_string\n",
        "\n",
        "string_shape=\"[[]]\"\n",
        "word=\"Python\"\n",
        "srting_shape_word(string_shape,word)"
      ],
      "metadata": {
        "colab": {
          "base_uri": "https://localhost:8080/",
          "height": 35
        },
        "id": "IqRwmonc_tIj",
        "outputId": "c4d60cd8-58d9-4631-aa4d-57407fb452b0"
      },
      "execution_count": null,
      "outputs": [
        {
          "output_type": "execute_result",
          "data": {
            "text/plain": [
              "'[[Python]]'"
            ],
            "application/vnd.google.colaboratory.intrinsic+json": {
              "type": "string"
            }
          },
          "metadata": {},
          "execution_count": 84
        }
      ]
    },
    {
      "cell_type": "markdown",
      "source": [
        "#11-Write a pyhton progarm to count the number of characters (character frequncey) in string"
      ],
      "metadata": {
        "id": "0W-Q13XamKLO"
      }
    },
    {
      "cell_type": "code",
      "source": [
        "def count_element(str_):\n",
        "  # Create an empty dictionary to store the frequency of characters\n",
        "  dic={}\n",
        "  # Loop through each character in the string\n",
        "  for i in str_:\n",
        "    # Get the keys of the dictionary\n",
        "    keys=dic.keys()\n",
        "    # If the character already exists in the dictionary, increment its frequency\n",
        "    if i in keys:\n",
        "      dic[i]+=1\n",
        "    # If the character does not exist in the dictionary, add it with a frequency of 1\n",
        "    else:\n",
        "      dic[i]=1\n",
        "  # Return the dictionary containing the frequency of characters\n",
        "  return dic\n",
        "\n",
        "str_=\"pyhton progarm to count the\"\n",
        "print(f\"Frequency of words in given string = {count_element(str_)}\")\n",
        "    "
      ],
      "metadata": {
        "colab": {
          "base_uri": "https://localhost:8080/"
        },
        "id": "5axW77HaWLkL",
        "outputId": "863c90fc-ed79-4c17-b6f5-8becc284a9a8"
      },
      "execution_count": null,
      "outputs": [
        {
          "output_type": "stream",
          "name": "stdout",
          "text": [
            "Frequency of words in given string = {'p': 2, 'y': 1, 'h': 2, 't': 4, 'o': 4, 'n': 2, ' ': 4, 'r': 2, 'g': 1, 'a': 1, 'm': 1, 'c': 1, 'u': 1, 'e': 1}\n"
          ]
        }
      ]
    },
    {
      "cell_type": "markdown",
      "source": [
        "# 12-Write python code to check the Armstrong number"
      ],
      "metadata": {
        "id": "HYaTHowbo9uY"
      }
    },
    {
      "cell_type": "markdown",
      "source": [
        "**An Armstrong number is a number that is equal to the sum of its own digits raised to the power of the number of digits. For example, 153 is an Armstrong number because 1^3 + 5^3 + 3^3 = 153.**\n",
        "\n",
        "\n",
        "\n",
        "\n",
        "\n"
      ],
      "metadata": {
        "id": "K8r4LtMbwtlC"
      }
    },
    {
      "cell_type": "code",
      "source": [
        "def check_Armstrong(n):\n",
        "    # Store the original number in a variable called num\n",
        "    num = n\n",
        "    # Initialize a variable called sum to 0\n",
        "    sum = 0\n",
        "    # While n is not equal to 0\n",
        "    while n != 0:\n",
        "        # Extract the last digit of n\n",
        "        a = n % 10\n",
        "        # Add the cube of the digit to sum\n",
        "        sum += a**3\n",
        "        # Remove the last digit from n\n",
        "        n -= a\n",
        "        n = n // 10\n",
        "    # If num is equal to sum, then it is an Armstrong number\n",
        "    if num == sum:\n",
        "        return \"Armstrong Number\"\n",
        "    else:\n",
        "        return \"Not Armstrong Number\"\n",
        "\n",
        "n=12\n",
        "\n",
        "check_Armstrong(n)"
      ],
      "metadata": {
        "colab": {
          "base_uri": "https://localhost:8080/",
          "height": 35
        },
        "id": "aCA-sz_doBzu",
        "outputId": "83916d7f-0cbe-46f8-b149-ad7115e1de8e"
      },
      "execution_count": null,
      "outputs": [
        {
          "output_type": "execute_result",
          "data": {
            "text/plain": [
              "'Not Armstrong Number'"
            ],
            "application/vnd.google.colaboratory.intrinsic+json": {
              "type": "string"
            }
          },
          "metadata": {},
          "execution_count": 104
        }
      ]
    },
    {
      "cell_type": "markdown",
      "source": [
        "#13-Write a function rotate(ar[], d, n) in pythpn that rotates arr[] of size n by d elements."
      ],
      "metadata": {
        "id": "3Ymi5xOiwyu1"
      }
    },
    {
      "cell_type": "code",
      "source": [
        "def rotate(arr, d, n):\n",
        "    # create a new array to store the rotated elements\n",
        "    rotated = [0] * n\n",
        "    \n",
        "    # copy the d elements at the end of the array to the beginning of the rotated array\n",
        "    for i in range(d):\n",
        "        rotated[i] = arr[n - d + i]\n",
        "        \n",
        "    # copy the remaining elements to the rotated array\n",
        "    for i in range(n - d):\n",
        "        rotated[i + d] = arr[i]\n",
        "        \n",
        "    # return the rotated array\n",
        "    return rotated\n",
        "arr = [1, 2, 3, 4, 5, 6, 7]\n",
        "d = 3\n",
        "n = len(arr)\n",
        "rotated = rotate(arr, d, n)\n",
        "print(rotated) "
      ],
      "metadata": {
        "colab": {
          "base_uri": "https://localhost:8080/"
        },
        "id": "hlvgJuD5v_lg",
        "outputId": "6d11d594-ea5b-4d34-bb42-a0ec6c342077"
      },
      "execution_count": null,
      "outputs": [
        {
          "output_type": "stream",
          "name": "stdout",
          "text": [
            "[5, 6, 7, 1, 2, 3, 4]\n"
          ]
        }
      ]
    },
    {
      "cell_type": "markdown",
      "source": [
        "#14-Write a Python program to find all pairs of unique elements in a list whose sum is equal to a given target value"
      ],
      "metadata": {
        "id": "ub8S-VAsfjFw"
      }
    },
    {
      "cell_type": "code",
      "source": [
        "# define a function target_sum that takes a list and a target value as input\n",
        "def target_sum(lst, target):\n",
        "    # create an empty list to store the pairs whose sum is equal to the target\n",
        "    target_sum_list = []\n",
        "    \n",
        "    # loop through all possible pairs of elements in the list\n",
        "    for i in range(len(lst)-1):\n",
        "        for j in range(i+1, len(lst)):\n",
        "            # check if the sum of the pair is equal to the target value\n",
        "            # and if the pair is not already in the list of pairs\n",
        "            if lst[i]+lst[j]==target and (lst[i],lst[j]) not in target_sum_list and (lst[j],lst[i]) not in target_sum_list:\n",
        "                # add the pair to the list of pairs\n",
        "                target_sum_list.append((lst[i],lst[j]))\n",
        "    \n",
        "    # return the list of pairs whose sum is equal to the target\n",
        "    return target_sum_list\n",
        "\n",
        "# create a list and a target value\n",
        "lst = [2, 4, 3, 5, 7, 8, 9, 2,5,0,7]\n",
        "target = 7\n",
        "\n",
        "# call the target_sum function with the list and target as input\n",
        "# and print the result\n",
        "print(target_sum(lst, target))\n"
      ],
      "metadata": {
        "colab": {
          "base_uri": "https://localhost:8080/"
        },
        "id": "Ub11u1iFebdG",
        "outputId": "b9a0d31d-bdbf-447b-d1c1-fd09ab668d56"
      },
      "execution_count": 13,
      "outputs": [
        {
          "output_type": "stream",
          "name": "stdout",
          "text": [
            "[(2, 5), (4, 3), (7, 0)]\n"
          ]
        }
      ]
    },
    {
      "cell_type": "markdown",
      "source": [
        "#15-Write a Python program to check if two strings are anagrams of each other."
      ],
      "metadata": {
        "id": "CspaCHCtiZkn"
      }
    },
    {
      "cell_type": "code",
      "source": [
        "def are_anagrams(str1, str2):\n",
        "    # Convert the strings to lowercase and remove whitespace\n",
        "    str1 = str1.lower().replace(\" \", \"\")\n",
        "    str2 = str2.lower().replace(\" \", \"\")\n",
        "    \n",
        "    # Check if the lengths of the strings are equal\n",
        "    if len(str1) != len(str2):\n",
        "        return False\n",
        "    \n",
        "    # Convert the strings to lists and sort them\n",
        "    str1_list = sorted(list(str1))\n",
        "    str2_list = sorted(list(str2))\n",
        "    \n",
        "    # Compare the sorted lists\n",
        "    if str1_list == str2_list:\n",
        "        return True\n",
        "    else:\n",
        "        return False\n",
        "\n",
        "\n",
        "str1=\"Listen to me \"\n",
        "str2=\"silent me o t\"\n",
        "anagram(str1,str2)"
      ],
      "metadata": {
        "colab": {
          "base_uri": "https://localhost:8080/",
          "height": 35
        },
        "id": "OMpPymrceb7O",
        "outputId": "3300096a-96eb-4661-882c-a8c1bf53915d"
      },
      "execution_count": 22,
      "outputs": [
        {
          "output_type": "execute_result",
          "data": {
            "text/plain": [
              "'Two strings are anagram'"
            ],
            "application/vnd.google.colaboratory.intrinsic+json": {
              "type": "string"
            }
          },
          "metadata": {},
          "execution_count": 22
        }
      ]
    }
  ]
}